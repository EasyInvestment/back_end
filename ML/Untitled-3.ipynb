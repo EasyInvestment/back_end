{
 "cells": [
  {
   "cell_type": "code",
   "execution_count": 1,
   "metadata": {},
   "outputs": [
    {
     "name": "stdout",
     "output_type": "stream",
     "text": [
      ">> connection 실패  (2003, \"Can't connect to MySQL server on 'investment.cu24cf6ah5lb.us-west-1.rds.amazonaws.com' ([Errno 8] nodename nor servname provided, or not known)\")\n"
     ]
    },
    {
     "ename": "AttributeError",
     "evalue": "'bool' object has no attribute 'cursor'",
     "output_type": "error",
     "traceback": [
      "\u001b[0;31m---------------------------------------------------------------------------\u001b[0m",
      "\u001b[0;31mAttributeError\u001b[0m                            Traceback (most recent call last)",
      "\u001b[1;32m/Users/yuhyeonseog/한이음 프로젝트/ML/Untitled-3.ipynb 셀 1\u001b[0m line \u001b[0;36m<cell line: 6>\u001b[0;34m()\u001b[0m\n\u001b[1;32m      <a href='vscode-notebook-cell:/Users/yuhyeonseog/%E1%84%92%E1%85%A1%E1%86%AB%E1%84%8B%E1%85%B5%E1%84%8B%E1%85%B3%E1%86%B7%20%E1%84%91%E1%85%B3%E1%84%85%E1%85%A9%E1%84%8C%E1%85%A6%E1%86%A8%E1%84%90%E1%85%B3/ML/Untitled-3.ipynb#W0sZmlsZQ%3D%3D?line=3'>4</a>\u001b[0m name \u001b[39m=\u001b[39m \u001b[39m\"\u001b[39m\u001b[39m가구\u001b[39m\u001b[39m\"\u001b[39m\n\u001b[1;32m      <a href='vscode-notebook-cell:/Users/yuhyeonseog/%E1%84%92%E1%85%A1%E1%86%AB%E1%84%8B%E1%85%B5%E1%84%8B%E1%85%B3%E1%86%B7%20%E1%84%91%E1%85%B3%E1%84%85%E1%85%A9%E1%84%8C%E1%85%A6%E1%86%A8%E1%84%90%E1%85%B3/ML/Untitled-3.ipynb#W0sZmlsZQ%3D%3D?line=4'>5</a>\u001b[0m df_krx \u001b[39m=\u001b[39m fdr\u001b[39m.\u001b[39mStockListing(\u001b[39m'\u001b[39m\u001b[39mKRX\u001b[39m\u001b[39m'\u001b[39m)\n\u001b[0;32m----> <a href='vscode-notebook-cell:/Users/yuhyeonseog/%E1%84%92%E1%85%A1%E1%86%AB%E1%84%8B%E1%85%B5%E1%84%8B%E1%85%B3%E1%86%B7%20%E1%84%91%E1%85%B3%E1%84%85%E1%85%A9%E1%84%8C%E1%85%A6%E1%86%A8%E1%84%90%E1%85%B3/ML/Untitled-3.ipynb#W0sZmlsZQ%3D%3D?line=5'>6</a>\u001b[0m table \u001b[39m=\u001b[39m getTableName(name)\n\u001b[1;32m      <a href='vscode-notebook-cell:/Users/yuhyeonseog/%E1%84%92%E1%85%A1%E1%86%AB%E1%84%8B%E1%85%B5%E1%84%8B%E1%85%B3%E1%86%B7%20%E1%84%91%E1%85%B3%E1%84%85%E1%85%A9%E1%84%8C%E1%85%A6%E1%86%A8%E1%84%90%E1%85%B3/ML/Untitled-3.ipynb#W0sZmlsZQ%3D%3D?line=6'>7</a>\u001b[0m table \u001b[39m=\u001b[39m [i\u001b[39m.\u001b[39mreplace(\u001b[39m\"\u001b[39m\u001b[39ms\u001b[39m\u001b[39m\"\u001b[39m,\u001b[39m\"\u001b[39m\u001b[39m\"\u001b[39m) \u001b[39mfor\u001b[39;00m i \u001b[39min\u001b[39;00m table]\n\u001b[1;32m      <a href='vscode-notebook-cell:/Users/yuhyeonseog/%E1%84%92%E1%85%A1%E1%86%AB%E1%84%8B%E1%85%B5%E1%84%8B%E1%85%B3%E1%86%B7%20%E1%84%91%E1%85%B3%E1%84%85%E1%85%A9%E1%84%8C%E1%85%A6%E1%86%A8%E1%84%90%E1%85%B3/ML/Untitled-3.ipynb#W0sZmlsZQ%3D%3D?line=7'>8</a>\u001b[0m curr_category \u001b[39m=\u001b[39m name\n",
      "File \u001b[0;32m~/한이음 프로젝트/ML/GetData.py:43\u001b[0m, in \u001b[0;36mgetTableName\u001b[0;34m(database)\u001b[0m\n\u001b[1;32m     41\u001b[0m con \u001b[39m=\u001b[39m connect_db(database)\n\u001b[1;32m     42\u001b[0m \u001b[39m# 커서 생성\u001b[39;00m\n\u001b[0;32m---> 43\u001b[0m cursor \u001b[39m=\u001b[39m con\u001b[39m.\u001b[39;49mcursor()\n\u001b[1;32m     45\u001b[0m \u001b[39m# 테이블 목록 조회\u001b[39;00m\n\u001b[1;32m     46\u001b[0m cursor\u001b[39m.\u001b[39mexecute(\u001b[39m\"\u001b[39m\u001b[39mSHOW TABLES\u001b[39m\u001b[39m\"\u001b[39m)\n",
      "\u001b[0;31mAttributeError\u001b[0m: 'bool' object has no attribute 'cursor'"
     ]
    }
   ],
   "source": [
    "import FinanceDataReader as fdr\n",
    "from GetData import getTableName\n",
    "# 한국거래소 상장종목 전체\n",
    "name = \"가구\"\n",
    "df_krx = fdr.StockListing('KRX')\n",
    "table = getTableName(name)\n",
    "table = [i.replace(\"s\",\"\") for i in table]\n",
    "curr_category = name\n",
    "curr_name = table\n",
    "curr_sym = []\n",
    "for i in range(len(table)):\n",
    "    curr_sym.append(df_krx[df_krx[\"Symbol\"] == table[i]][\"Symbol\"].values[0])"
   ]
  },
  {
   "cell_type": "code",
   "execution_count": 14,
   "metadata": {},
   "outputs": [],
   "source": [
    "curr_sym = []\n",
    "for i in range(len(table)):\n",
    "    curr_sym.append(df_krx[df_krx[\"Symbol\"] == table[i]][\"Name\"].values[0])"
   ]
  },
  {
   "cell_type": "code",
   "execution_count": 15,
   "metadata": {},
   "outputs": [
    {
     "data": {
      "text/plain": [
       "['에이스침대', '에넥스', '지누스', '퍼시스', '코아스', '듀오백', '현대리바트', '시디즈', '오하임앤컴퍼니', '꿈비']"
      ]
     },
     "execution_count": 15,
     "metadata": {},
     "output_type": "execute_result"
    }
   ],
   "source": [
    "curr_sym"
   ]
  },
  {
   "cell_type": "code",
   "execution_count": 20,
   "metadata": {},
   "outputs": [],
   "source": [
    "from pykrx import stock\n",
    "from datetime import datetime\n",
    "today = str(datetime.now())[:10].replace(\"-\",\"\")\n",
    "df = stock.get_market_fundamental(today, today, \"005930\")\n",
    "col = list(df.columns)\n",
    "dic = {}\n",
    "for name in col:\n",
    "    dic[name] = df[name].values[0]"
   ]
  },
  {
   "cell_type": "code",
   "execution_count": 21,
   "metadata": {},
   "outputs": [
    {
     "data": {
      "text/plain": [
       "{'BPS': 57822, 'PER': 8.35, 'PBR': 1.16, 'EPS': 8057, 'DIV': 2.15, 'DPS': 1444}"
      ]
     },
     "execution_count": 21,
     "metadata": {},
     "output_type": "execute_result"
    }
   ],
   "source": [
    "dic"
   ]
  },
  {
   "cell_type": "code",
   "execution_count": null,
   "metadata": {},
   "outputs": [],
   "source": []
  }
 ],
 "metadata": {
  "kernelspec": {
   "display_name": "Python 3",
   "language": "python",
   "name": "python3"
  },
  "language_info": {
   "codemirror_mode": {
    "name": "ipython",
    "version": 3
   },
   "file_extension": ".py",
   "mimetype": "text/x-python",
   "name": "python",
   "nbconvert_exporter": "python",
   "pygments_lexer": "ipython3",
   "version": "3.10.0"
  },
  "orig_nbformat": 4
 },
 "nbformat": 4,
 "nbformat_minor": 2
}
